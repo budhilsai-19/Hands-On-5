{
  "nbformat": 4,
  "nbformat_minor": 0,
  "metadata": {
    "colab": {
      "provenance": [],
      "authorship_tag": "ABX9TyNTBNt0yl2y8RaXZuQxH0Kb",
      "include_colab_link": true
    },
    "kernelspec": {
      "name": "python3",
      "display_name": "Python 3"
    },
    "language_info": {
      "name": "python"
    }
  },
  "cells": [
    {
      "cell_type": "markdown",
      "metadata": {
        "id": "view-in-github",
        "colab_type": "text"
      },
      "source": [
        "<a href=\"https://colab.research.google.com/github/budhilsai-19/Hands-On-5/blob/main/Hands_On_5.ipynb\" target=\"_parent\"><img src=\"https://colab.research.google.com/assets/colab-badge.svg\" alt=\"Open In Colab\"/></a>"
      ]
    },
    {
      "cell_type": "code",
      "execution_count": 1,
      "metadata": {
        "colab": {
          "base_uri": "https://localhost:8080/"
        },
        "id": "b6A2PNcdOArd",
        "outputId": "0011068d-e6f8-4322-f0b3-d7be83e6b565"
      },
      "outputs": [
        {
          "output_type": "stream",
          "name": "stdout",
          "text": [
            "Original Heap: [25, 32, 45, 98, 65]\n",
            "Popped root: 25\n",
            "Heap after popping root: [32, 65, 45, 98]\n",
            "\n",
            "Original Heap: [0.5, 2.5, 10.6, 8.6, 6.4]\n",
            "Popped root: 0.5\n",
            "Heap after popping root: [2.5, 6.4, 10.6, 8.6]\n",
            "\n",
            "Original Heap: ['Brother', 'Cousin', 'Sister', 'Dad', 'Mom']\n",
            "Popped root: Brother\n",
            "Heap after popping root: ['Cousin', 'Dad', 'Sister', 'Mom']\n"
          ]
        }
      ],
      "source": [
        "class MinHeap:\n",
        "    def parent(self, i):\n",
        "        return (i - 1) >> 1\n",
        "\n",
        "    def left(self, i):\n",
        "        return (i << 1) + 1\n",
        "\n",
        "    def right(self, i):\n",
        "        return (i << 1) + 2\n",
        "\n",
        "    def build_min_heap(self, arr):\n",
        "        self.heap = arr[:]\n",
        "        n = len(arr)\n",
        "        for i in range(n // 2, -1, -1):\n",
        "            self.heapify(i)\n",
        "\n",
        "    def heapify(self, i):\n",
        "        l = self.left(i)\n",
        "        r = self.right(i)\n",
        "        smallest = i\n",
        "        if l < len(self.heap) and self.heap[l] < self.heap[smallest]:\n",
        "            smallest = l\n",
        "        if r < len(self.heap) and self.heap[r] < self.heap[smallest]:\n",
        "            smallest = r\n",
        "        if smallest != i:\n",
        "            self.heap[i], self.heap[smallest] = self.heap[smallest], self.heap[i]\n",
        "            self.heapify(smallest)\n",
        "    def pop_root(self):\n",
        "        if not hasattr(self, 'heap'):\n",
        "            return None\n",
        "        if not self.heap:\n",
        "            return None\n",
        "        root = self.heap[0]\n",
        "        self.heap[0] = self.heap[-1]\n",
        "        self.heap.pop()\n",
        "        self.heapify(0)\n",
        "        return root\n",
        "\n",
        "if __name__ == \"__main__\":\n",
        "    # Example with integers\n",
        "    min_heap = MinHeap()\n",
        "    min_heap.build_min_heap([45, 65, 25, 98, 32])\n",
        "    print(\"Original Heap:\", min_heap.heap)\n",
        "    print(\"Popped root:\", min_heap.pop_root())\n",
        "    print(\"Heap after popping root:\", min_heap.heap)\n",
        "\n",
        "    # Example with floats\n",
        "    min_heap.build_min_heap([2.5, 8.6, 10.6, 0.5, 6.4])\n",
        "    print(\"\\nOriginal Heap:\", min_heap.heap)\n",
        "    print(\"Popped root:\", min_heap.pop_root())\n",
        "    print(\"Heap after popping root:\", min_heap.heap)\n",
        "\n",
        "    # Example with strings\n",
        "    min_heap.build_min_heap([\"Mom\", \"Dad\", \"Sister\", \"Brother\", \"Cousin\"])\n",
        "    print(\"\\nOriginal Heap:\", min_heap.heap)\n",
        "    print(\"Popped root:\", min_heap.pop_root())\n",
        "    print(\"Heap after popping root:\", min_heap.heap)"
      ]
    }
  ]
}